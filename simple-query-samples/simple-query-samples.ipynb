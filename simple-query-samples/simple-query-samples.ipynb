{
 "cells": [
  {
   "cell_type": "markdown",
   "id": "f2cd6cb4-aa38-4341-8a52-337a53f35a77",
   "metadata": {
    "microsoft": {
     "language": "python",
     "language_group": "synapse_pyspark"
    },
    "nteract": {
     "transient": {
      "deleting": false
     }
    }
   },
   "source": [
    "# Cosmos DB in Fabric\n",
    "\n",
    "## Simple Query Samples\n",
    "\n",
    "This sample notebook shows how to do simple queries for Cosmos DB in Fabric using the Sample Data you load from Cosmos Data Explorer. The sample dataset is a product catalog that also contains customer reviews, all stored in the same container. This co-locating of different entities is a best practice with Cosmos DB. If data is frequently accessed or updated at the same time, and if it can share the same partition key, then storing the different types of data is encouraged.\n",
    "\n",
    "### Features of this Notebook\n",
    "This notebook demonstrates the following concepts:\n",
    "\n",
    "- How to authenticate to Cosmos DB in Fabric\n",
    "- How to get a database and container reference\n",
    "- How to write queries in Cosmos DB in Fabric\n",
    "\n",
    "Requirements:\n",
    "- This sample utilizes the SampleData dataset in Cosmos DB in Fabric Data Explorer. Create a new Cosmos DB artifact, then on the Home screen after creating a new artifact, click SampleData to create the new SampleData container.\n"
   ]
  },
  {
   "cell_type": "code",
   "execution_count": null,
   "id": "9dcb25c6-80f5-4e97-beff-e40c8ba0c3a9",
   "metadata": {
    "microsoft": {
     "language": "python",
     "language_group": "jupyter_python"
    }
   },
   "outputs": [],
   "source": [
    "#Install packages\n",
    "%pip install azure-cosmos"
   ]
  },
  {
   "cell_type": "code",
   "execution_count": null,
   "id": "f1dcab5a-3cdf-4c08-828a-6a7b7f6e33a5",
   "metadata": {
    "microsoft": {
     "language": "python",
     "language_group": "jupyter_python"
    }
   },
   "outputs": [],
   "source": [
    "#Imports and config values\n",
    "import logging\n",
    "from rich.pretty import pprint\n",
    "from typing import List, Dict, Any, Optional\n",
    "\n",
    "from azure.cosmos.aio import CosmosClient\n",
    "from azure.cosmos.exceptions import CosmosHttpResponseError\n",
    "\n",
    "COSMOS_ENDPOINT = '{your-cosmos-endpoint}'\n",
    "COSMOS_DATABASE_NAME = '{your-cosmos-artifact-name}'\n",
    "COSMOS_CONTAINER_NAME = 'SampleData'"
   ]
  },
  {
   "cell_type": "code",
   "execution_count": null,
   "id": "e3a335e2-e135-4ba0-b52e-c20aff19b0cb",
   "metadata": {
    "microsoft": {
     "language": "python",
     "language_group": "jupyter_python"
    }
   },
   "outputs": [],
   "source": [
    "# Custom TokenCredential implementation for Fabric authentication\n",
    "%pip install azure-core\n",
    "from azure.core.credentials import TokenCredential, AccessToken\n",
    "import base64\n",
    "import json\n",
    "import notebookutils\n",
    "from datetime import datetime, timezone\n",
    "\n",
    "class FabricTokenCredential(TokenCredential):\n",
    "\n",
    "    def get_token(self, *scopes: str, claims: Optional[str] = None, tenant_id: Optional[str] = None,\n",
    "                  enable_cae: bool = False, **kwargs: Any) -> AccessToken:\n",
    "        access_token = notebookutils.credentials.getToken(\"https://cosmos.azure.com/\")\n",
    "        parts = access_token.split(\".\")\n",
    "        if len(parts) < 2:\n",
    "            raise ValueError(\"Invalid JWT format\")\n",
    "        payload_b64 = parts[1]\n",
    "        # Fix padding\n",
    "        padding = (-len(payload_b64)) % 4\n",
    "        if padding:\n",
    "            payload_b64 += \"=\" * padding\n",
    "        payload_json = base64.urlsafe_b64decode(payload_b64.encode(\"utf-8\")).decode(\"utf-8\")\n",
    "        payload = json.loads(payload_json)\n",
    "        exp = payload.get(\"exp\")\n",
    "        if exp is None:\n",
    "            raise ValueError(\"exp claim missing in token\")\n",
    "        return AccessToken(token=access_token, expires_on=exp) "
   ]
  },
  {
   "cell_type": "code",
   "execution_count": null,
   "id": "d8ffab27-0326-4d4d-9f03-27032280da5f",
   "metadata": {
    "microsoft": {
     "language": "python",
     "language_group": "jupyter_python"
    }
   },
   "outputs": [],
   "source": [
    "# Initialize Cosmos DB client and container\n",
    "COSMOS_CLIENT = CosmosClient(COSMOS_ENDPOINT, FabricTokenCredential())\n",
    "DATABASE = COSMOS_CLIENT.get_database_client(COSMOS_DATABASE_NAME)\n",
    "CONTAINER = DATABASE.get_container_client(COSMOS_CONTAINER_NAME)"
   ]
  },
  {
   "cell_type": "code",
   "execution_count": null,
   "id": "0ade67eb-0854-473b-88e6-62325c47820a",
   "metadata": {
    "microsoft": {
     "language": "python",
     "language_group": "jupyter_python"
    }
   },
   "outputs": [],
   "source": [
    "#Define function to search for all products by category name\n",
    "async def search_products(categoryName: str, limit: int = 5) -> List[Dict[str, Any]]:\n",
    "\n",
    "    try:\n",
    "        # Use parameterized query\n",
    "        query = \"\"\"\n",
    "            SELECT TOP @limit \n",
    "                c.categoryName,\n",
    "                c.name, \n",
    "                c.description,\n",
    "                c.currentPrice,\n",
    "                c.inventory,\n",
    "                c.priceHistory\n",
    "            FROM c \n",
    "            WHERE \n",
    "                c.categoryName = @categoryName AND\n",
    "                c.docType = @docType\n",
    "            ORDER BY\n",
    "                c.currentPrice DESC\n",
    "        \"\"\"\n",
    "\n",
    "        parameters = [\n",
    "            {\"name\": \"@limit\", \"value\": limit},\n",
    "            {\"name\": \"@docType\", \"value\": \"product\"},\n",
    "            {\"name\": \"@categoryName\", \"value\": categoryName}\n",
    "        ]\n",
    "\n",
    "        # Async query: gather results into a list\n",
    "        products = [p async for p in CONTAINER.query_items(\n",
    "            query=query,\n",
    "            enable_cross_partition_query=False,\n",
    "            parameters=parameters\n",
    "        )]\n",
    "        \n",
    "        return products\n",
    "\n",
    "    except CosmosHttpResponseError as e:\n",
    "        logging.error(f\"Cosmos DB query failed: {e}\")\n",
    "        raise\n",
    "    except Exception as e:\n",
    "        logging.error(f\"Unexpected error in search_products: {e}\")\n",
    "        raise"
   ]
  },
  {
   "cell_type": "code",
   "execution_count": null,
   "id": "8c680832-8cb3-45a1-b508-45720dd8b578",
   "metadata": {
    "microsoft": {
     "language": "python",
     "language_group": "jupyter_python"
    }
   },
   "outputs": [],
   "source": [
    "# Search for products in a category\n",
    "products = await search_products(categoryName=\"Computers, Laptops\", limit=5)\n",
    "\n",
    "#display(products) # for tabular output\n",
    "pprint(products) #Json friendly output"
   ]
  },
  {
   "cell_type": "code",
   "execution_count": null,
   "id": "a669cc0f-d0be-49f3-b4a4-5456e5919021",
   "metadata": {
    "microsoft": {
     "language": "python",
     "language_group": "jupyter_python"
    }
   },
   "outputs": [],
   "source": [
    "#Define function to search for a single product and all its customer reviews\n",
    "async def search_products_and_reviews(categoryName: str, productId: str) -> List[Dict[str, Any]]:\n",
    "\n",
    "    try:\n",
    "        # Use parameterized query\n",
    "        query = \"\"\"\n",
    "            SELECT *\n",
    "            FROM c \n",
    "            WHERE \n",
    "                c.categoryName = @categoryName AND\n",
    "                c.productId = @productId\n",
    "        \"\"\"\n",
    "\n",
    "        parameters = [\n",
    "            {\"name\": \"@categoryName\", \"value\": categoryName},\n",
    "            {\"name\": \"@productId\", \"value\": productId},\n",
    "        ]\n",
    "\n",
    "        # Async query: gather results into a list\n",
    "        products = [p async for p in CONTAINER.query_items(\n",
    "            query=query,\n",
    "            parameters=parameters\n",
    "        )]\n",
    "\n",
    "        # Remove system properties (only when using SELECT *)\n",
    "        for p in products:\n",
    "            system_properties = [k for k in p.keys() if k.startswith('_')]\n",
    "            for k in system_properties:\n",
    "                p.pop(k)\n",
    "        \n",
    "        return products\n",
    "\n",
    "    except CosmosHttpResponseError as e:\n",
    "        logging.error(f\"Cosmos DB query failed: {e}\")\n",
    "        raise\n",
    "    except Exception as e:\n",
    "        logging.error(f\"Unexpected error in search_product_and_reviews: {e}\")\n",
    "        raise"
   ]
  },
  {
   "cell_type": "code",
   "execution_count": null,
   "id": "503f9006-9ae4-481b-8268-ec5dfa5dd912",
   "metadata": {
    "microsoft": {
     "language": "python",
     "language_group": "jupyter_python"
    }
   },
   "outputs": [],
   "source": [
    "# Search for a product and all reviews\n",
    "products = await search_products_and_reviews(\n",
    "    categoryName=\"Computers, Laptops\", \n",
    "    productId=\"77be013f-4036-4311-9b5a-dab0c3d022be\")\n",
    "\n",
    "pprint(products)"
   ]
  }
 ],
 "metadata": {
  "a365ComputeOptions": null,
  "dependencies": {
   "environment": {
    "environmentId": "d617f2b6-1962-435f-a865-7652c09a1e9b",
    "workspaceId": "851f2673-aeb7-4b55-b663-82c63a597e07"
   },
   "lakehouse": null
  },
  "kernel_info": {
   "jupyter_kernel_name": "python3.11",
   "name": "jupyter"
  },
  "kernelspec": {
   "display_name": "Jupyter",
   "language": null,
   "name": "jupyter"
  },
  "language_info": {
   "name": "python"
  },
  "microsoft": {
   "language": "python",
   "language_group": "jupyter_python",
   "ms_spell_check": {
    "ms_spell_check_language": "en"
   }
  },
  "nteract": {
   "version": "nteract-front-end@1.0.0"
  },
  "sessionKeepAliveTimeout": 0,
  "spark_compute": {
   "compute_id": "/trident/default",
   "session_options": {
    "conf": {
     "spark.synapse.nbs.session.timeout": "43200000"
    }
   }
  }
 },
 "nbformat": 4,
 "nbformat_minor": 5
}
