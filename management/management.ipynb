{
 "cells": [
  {
   "cell_type": "markdown",
   "id": "2a460598-d5dc-4aca-8ec4-e5e012527fd6",
   "metadata": {
    "microsoft": {
     "language": "python",
     "language_group": "synapse_pyspark"
    },
    "nteract": {
     "transient": {
      "deleting": false
     }
    }
   },
   "source": [
    "# Cosmos DB in Fabric\n",
    "\n",
    "## Management Operations\n",
    "\n",
    "This sample notebook shows how to common management tasks with Cosmos DB in Fabric containers.\n",
    "\n",
    "### Features of this Notebook\n",
    "This notebook demonstrates the following concepts:\n",
    "\n",
    "- How to define indexing and vector policies for a container\n",
    "- How to create a new container with autoscale throughput\n",
    "- How to read and update container throughput\n",
    "\n",
    "Requirements:\n",
    "- This sample requires creating a Cosmos DB artifact in your Fabric Workspace.\n"
   ]
  },
  {
   "cell_type": "code",
   "execution_count": null,
   "id": "6282ffb0-629e-4723-8603-53703ed21d25",
   "metadata": {
    "microsoft": {
     "language": "python",
     "language_group": "jupyter_python"
    }
   },
   "outputs": [],
   "source": [
    "#Install packages\n",
    "%pip install azure-cosmos"
   ]
  },
  {
   "cell_type": "code",
   "execution_count": null,
   "id": "6f34718b-b954-4748-971f-15cd22af3e7d",
   "metadata": {
    "microsoft": {
     "language": "python",
     "language_group": "jupyter_python"
    }
   },
   "outputs": [],
   "source": [
    "#Imports and config values\n",
    "import logging\n",
    "import requests\n",
    "import asyncio\n",
    "from typing import List, Dict, Any, Optional\n",
    "\n",
    "from azure.cosmos.aio import CosmosClient\n",
    "from azure.cosmos import PartitionKey, ThroughputProperties\n",
    "from azure.cosmos.exceptions import CosmosHttpResponseError, CosmosResourceNotFoundError\n",
    "\n",
    "COSMOS_ENDPOINT = 'https://my-cosmos-endpoint.cosmos.fabric.microsoft.com:443/'\n",
    "COSMOS_DATABASE_NAME = '{your-cosmos-artifact-name}'\n",
    "COSMOS_CONTAINER_NAME = 'samplecontainer'"
   ]
  },
  {
   "cell_type": "code",
   "execution_count": null,
   "id": "1cfd8949-6d75-41fe-8b6d-ddfa168f75c1",
   "metadata": {
    "microsoft": {
     "language": "python",
     "language_group": "jupyter_python"
    }
   },
   "outputs": [],
   "source": [
    "# Custom TokenCredential implementation for Fabric authentication\n",
    "%pip install azure-core\n",
    "from azure.core.credentials import TokenCredential, AccessToken\n",
    "import base64\n",
    "import json\n",
    "import notebookutils\n",
    "from datetime import datetime, timezone\n",
    "\n",
    "class FabricTokenCredential(TokenCredential):\n",
    "\n",
    "    def get_token(self, *scopes: str, claims: Optional[str] = None, tenant_id: Optional[str] = None,\n",
    "                  enable_cae: bool = False, **kwargs: Any) -> AccessToken:\n",
    "        access_token = notebookutils.credentials.getToken(\"https://cosmos.azure.com/\")\n",
    "        parts = access_token.split(\".\")\n",
    "        if len(parts) < 2:\n",
    "            raise ValueError(\"Invalid JWT format\")\n",
    "        payload_b64 = parts[1]\n",
    "        # Fix padding\n",
    "        padding = (-len(payload_b64)) % 4\n",
    "        if padding:\n",
    "            payload_b64 += \"=\" * padding\n",
    "        payload_json = base64.urlsafe_b64decode(payload_b64.encode(\"utf-8\")).decode(\"utf-8\")\n",
    "        payload = json.loads(payload_json)\n",
    "        exp = payload.get(\"exp\")\n",
    "        if exp is None:\n",
    "            raise ValueError(\"exp claim missing in token\")\n",
    "        return AccessToken(token=access_token, expires_on=exp) "
   ]
  },
  {
   "cell_type": "code",
   "execution_count": null,
   "id": "0e756765-5d0f-4237-89fe-d490f8d15c33",
   "metadata": {
    "microsoft": {
     "language": "python",
     "language_group": "jupyter_python"
    }
   },
   "outputs": [],
   "source": [
    "# Initialize Cosmos DB client and database\n",
    "COSMOS_CLIENT = CosmosClient(COSMOS_ENDPOINT, FabricTokenCredential())\n",
    "DATABASE = COSMOS_CLIENT.get_database_client(COSMOS_DATABASE_NAME)"
   ]
  },
  {
   "cell_type": "code",
   "execution_count": null,
   "id": "eb491148-74b1-43cd-a9b0-4a65bfd0d8d6",
   "metadata": {
    "microsoft": {
     "language": "python",
     "language_group": "jupyter_python"
    }
   },
   "outputs": [],
   "source": [
    "# Creates and configure a container for vector indexing\n",
    "\n",
    "async def create_container():\n",
    "    \n",
    "    # Define the vector policy for the container\n",
    "    vector_embedding_policy = {\n",
    "        \"vectorEmbeddings\": [\n",
    "            {\n",
    "                \"path\":\"/vectors\",\n",
    "                \"dataType\":\"float32\",\n",
    "                \"distanceFunction\":\"cosine\",\n",
    "                \"dimensions\":1536\n",
    "            }\n",
    "        ]\n",
    "    }\n",
    "\n",
    "    # Define the indexing policy for the container\n",
    "    indexing_policy = {\n",
    "        \"includedPaths\": [\n",
    "            {\n",
    "                \"path\": \"/*\"\n",
    "            }\n",
    "        ],\n",
    "        \"excludedPaths\": [\n",
    "            {\n",
    "                \"path\": \"/vectors/*\"\n",
    "            },\n",
    "            {\n",
    "                \"path\": \"/\\\"_etag\\\"/?\"\n",
    "            }\n",
    "        ],\n",
    "        \"vectorIndexes\": [\n",
    "            {\n",
    "                \"path\": \"/vectors\",\n",
    "                \"type\": \"quantizedFlat\"\n",
    "            }\n",
    "        ]\n",
    "    }\n",
    "\n",
    "    # Containers in Fabric portal are created with 5000 RU/s by default\n",
    "    # You can create containers via SDK with minimum of 1000 RU/s\n",
    "    # Create the vectorized sample product container with 1000 RU/s\n",
    "    CONTAINER = await DATABASE.create_container_if_not_exists(\n",
    "        id=COSMOS_CONTAINER_NAME,\n",
    "        partition_key=PartitionKey(path='/categoryName', kind='Hash'),\n",
    "        indexing_policy=indexing_policy,\n",
    "        vector_embedding_policy=vector_embedding_policy,\n",
    "        offer_throughput=ThroughputProperties(auto_scale_max_throughput=1000))\n",
    "\n",
    "    print(f\"Container created\")\n",
    "    return CONTAINER\n",
    "\n",
    "\n",
    "# Call the create_container() function\n",
    "CONTAINER = await create_container()"
   ]
  },
  {
   "cell_type": "code",
   "execution_count": null,
   "id": "f67cd7ac-0f32-4ff6-9648-3a92b69e22da",
   "metadata": {
    "microsoft": {
     "language": "python",
     "language_group": "jupyter_python"
    }
   },
   "outputs": [],
   "source": [
    "# Load the vectorized product data. Vectors generated using text-embedding-ada-002 with 1536 dimensions\n",
    "async def load_data():\n",
    "    url = \"https://raw.githubusercontent.com/AzureCosmosDB/cosmos-fabric-samples/refs/heads/main/datasets/fabricSampleDataVectors-ada-002-1536.json\"\n",
    "    data = requests.get(url).json()\n",
    "\n",
    "    i = 0\n",
    "    # Insert the data into the container with retry logic for 429 errors\n",
    "    for item in data:\n",
    "        retry_count = 0\n",
    "        max_retries = 5\n",
    "        \n",
    "        while retry_count <= max_retries:\n",
    "            try:\n",
    "                await CONTAINER.create_item(item)\n",
    "                i += 1\n",
    "                break  # Success, move to next item\n",
    "                \n",
    "            except CosmosHttpResponseError as e:\n",
    "                if e.status_code == 429:  # Rate limited\n",
    "                    retry_count += 1\n",
    "                    if retry_count > max_retries:\n",
    "                        print(f\"Max retries exceeded for item {i}. Skipping.\")\n",
    "                        break\n",
    "                    \n",
    "                    # Extract retry-after-ms from response headers\n",
    "                    retry_after_ms = e.headers.get('x-ms-retry-after-ms', '1000')\n",
    "                    retry_after_seconds = int(retry_after_ms) / 1000.0\n",
    "                    \n",
    "                    print(f\"Rate limited (429). Retrying item {i} after {retry_after_seconds} seconds (attempt {retry_count}/{max_retries})\")\n",
    "                    await asyncio.sleep(retry_after_seconds)\n",
    "                else:\n",
    "                    # Other errors, re-raise\n",
    "                    print(f\"Error loading item {i}: {e}\")\n",
    "                    raise\n",
    "            except Exception as e:\n",
    "                print(f\"Unexpected error loading item {i}: {e}\")\n",
    "                raise\n",
    "\n",
    "    print(f\"{i} Products loaded successfully\")\n",
    "\n",
    "\n",
    "# Call load_data() function\n",
    "await load_data()"
   ]
  },
  {
   "cell_type": "code",
   "execution_count": null,
   "id": "53eb099c-d2be-4e0d-86b5-d0c262aa2a11",
   "metadata": {
    "microsoft": {
     "language": "python",
     "language_group": "jupyter_python"
    }
   },
   "outputs": [],
   "source": [
    "# Get the current throughput on the created container and increase it to 1000 RU/s\n",
    "\n",
    "throughput_properties = await CONTAINER.get_throughput()\n",
    "autoscale_throughput = throughput_properties.auto_scale_max_throughput\n",
    "\n",
    "print(print(f\"Autoscale throughput: {autoscale_throughput}\"))\n",
    "\n",
    "new_throughput = autoscale_throughput + 1000\n",
    "\n",
    "await CONTAINER.replace_throughput(ThroughputProperties(auto_scale_max_throughput=new_throughput))\n",
    "\n",
    "# Verify the updated throughput\n",
    "updated_throughput_properties = await CONTAINER.get_throughput()\n",
    "print(f\"Verified updated autoscale throughput: {updated_throughput_properties.auto_scale_max_throughput}\")\n"
   ]
  }
 ],
 "metadata": {
  "a365ComputeOptions": null,
  "dependencies": {
   "lakehouse": null
  },
  "kernel_info": {
   "jupyter_kernel_name": "python3.11",
   "name": "jupyter"
  },
  "kernelspec": {
   "display_name": "Jupyter",
   "language": null,
   "name": "jupyter"
  },
  "language_info": {
   "name": "python"
  },
  "microsoft": {
   "language": "python",
   "language_group": "jupyter_python",
   "ms_spell_check": {
    "ms_spell_check_language": "en"
   }
  },
  "nteract": {
   "version": "nteract-front-end@1.0.0"
  },
  "sessionKeepAliveTimeout": 0,
  "spark_compute": {
   "compute_id": "/trident/default",
   "session_options": {
    "conf": {
     "spark.synapse.nbs.session.timeout": "43200000"
    }
   }
  }
 },
 "nbformat": 4,
 "nbformat_minor": 5
}
