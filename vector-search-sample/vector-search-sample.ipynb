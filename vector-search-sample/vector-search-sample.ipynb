{
 "cells": [
  {
   "cell_type": "markdown",
   "id": "7c8d2ce6-cb92-4b24-abab-f839300dc2fa",
   "metadata": {
    "editable": true,
    "microsoft": {
     "language": "python",
     "language_group": "synapse_pyspark"
    },
    "nteract": {
     "transient": {
      "deleting": false
     }
    },
    "run_control": {
     "frozen": false
    }
   },
   "source": [
    "# Cosmos DB in Fabric\n",
    "\n",
    "## Vector Search Sample\n",
    "\n",
    "This sample notebook shows how to do vector search using Cosmos DB in Fabric with Fabric's built-in OpenAI text embedding model. The sample dataset is a product catalog is contains a `vectors` property containing the vectorized name, category and description properties.\n",
    "\n",
    "### Features of this Notebook\n",
    "This notebook demonstrates the following concepts:\n",
    "\n",
    "- How to write a query in Cosmos DB in Fabric to perform a vector similarity search\n",
    "- How to use the similarity score from a Cosmos DB vector search to filter and sort for the best results\n",
    "- How to generate embeddings using Fabric's built-in OpenAI model, text-embedding-ada-002\n",
    "\n",
    "Requirements:\n",
    "- This sample utilizes the SampleVectorData dataset in Cosmos DB in Fabric Data Explorer. Create a new Cosmos DB artifact, then on the Home screen after creating a new artifact, click SampleVectorData to create the new SampleVectorData container.\n"
   ]
  },
  {
   "cell_type": "code",
   "execution_count": null,
   "id": "41e2f3f7-fb8d-440b-9169-eadc015e6a26",
   "metadata": {
    "jupyter": {
     "outputs_hidden": false
    },
    "microsoft": {
     "language": "python",
     "language_group": "jupyter_python"
    }
   },
   "outputs": [],
   "source": [
    "#Install packages\n",
    "%pip install azure-cosmos\n",
    "%pip install openai"
   ]
  },
  {
   "cell_type": "code",
   "execution_count": null,
   "id": "66e051f6-1163-4662-ad68-d705033d374d",
   "metadata": {
    "jupyter": {
     "source_hidden": false
    },
    "microsoft": {
     "language": "python",
     "language_group": "jupyter_python"
    }
   },
   "outputs": [],
   "source": [
    "#Imports and config values\n",
    "import logging\n",
    "from rich.pretty import pprint\n",
    "from typing import List, Dict, Any, Optional\n",
    "\n",
    "import openai\n",
    "from azure.cosmos.aio import CosmosClient\n",
    "from azure.cosmos.exceptions import CosmosHttpResponseError\n",
    "\n",
    "os.environ[\"OPENAI_API_VERSION\"] = \"2023-05-15\"\n",
    "OPEN_AI_MODEL = \"text-embedding-ada-002\"\n",
    "\n",
    "COSMOS_ENDPOINT = '{your-cosmos-endpoint}'\n",
    "COSMOS_DATABASE_NAME = 'cosmos-sample-database'\n",
    "COSMOS_CONTAINER_NAME = 'SampleVectorData'"
   ]
  },
  {
   "cell_type": "code",
   "execution_count": null,
   "id": "7925add8-3777-4e67-9f1a-dc5de34d9150",
   "metadata": {
    "microsoft": {
     "language": "python",
     "language_group": "jupyter_python"
    }
   },
   "outputs": [],
   "source": [
    "# Custom TokenCredential implementation for Fabric authentication\n",
    "%pip install azure-core\n",
    "from azure.core.credentials import TokenCredential, AccessToken\n",
    "import base64\n",
    "import json\n",
    "import notebookutils\n",
    "from datetime import datetime, timezone\n",
    "\n",
    "class FabricTokenCredential(TokenCredential):\n",
    "\n",
    "    def get_token(self, *scopes: str, claims: Optional[str] = None, tenant_id: Optional[str] = None,\n",
    "                  enable_cae: bool = False, **kwargs: Any) -> AccessToken:\n",
    "        access_token = notebookutils.credentials.getToken(\"https://cosmos.azure.com/\")\n",
    "        parts = access_token.split(\".\")\n",
    "        if len(parts) < 2:\n",
    "            raise ValueError(\"Invalid JWT format\")\n",
    "        payload_b64 = parts[1]\n",
    "        # Fix padding\n",
    "        padding = (-len(payload_b64)) % 4\n",
    "        if padding:\n",
    "            payload_b64 += \"=\" * padding\n",
    "        payload_json = base64.urlsafe_b64decode(payload_b64.encode(\"utf-8\")).decode(\"utf-8\")\n",
    "        payload = json.loads(payload_json)\n",
    "        exp = payload.get(\"exp\")\n",
    "        if exp is None:\n",
    "            raise ValueError(\"exp claim missing in token\")\n",
    "        return AccessToken(token=access_token, expires_on=exp) "
   ]
  },
  {
   "cell_type": "code",
   "execution_count": null,
   "id": "7737bd4b-f201-4e0a-822f-661f3a5fb2c8",
   "metadata": {
    "jupyter": {
     "outputs_hidden": false,
     "source_hidden": false
    },
    "microsoft": {
     "language": "python",
     "language_group": "jupyter_python"
    },
    "nteract": {
     "transient": {
      "deleting": false
     }
    }
   },
   "outputs": [],
   "source": [
    "# Initialize Cosmos DB client and container\n",
    "COSMOS_CLIENT = CosmosClient(COSMOS_ENDPOINT, FabricTokenCredential())\n",
    "DATABASE = COSMOS_CLIENT.get_database_client(COSMOS_DATABASE_NAME)\n",
    "CONTAINER = DATABASE.get_container_client(COSMOS_CONTAINER_NAME)"
   ]
  },
  {
   "cell_type": "code",
   "execution_count": null,
   "id": "c1fe4be3-4ab2-4b23-9f60-72a669c328ca",
   "metadata": {
    "microsoft": {
     "language": "python",
     "language_group": "jupyter_python"
    }
   },
   "outputs": [],
   "source": [
    "# Define function to generate embeddings for vector search\n",
    "def generate_embeddings(text):\n",
    "\n",
    "    response = openai.embeddings.create(\n",
    "        input=text,\n",
    "        model=OPEN_AI_MODEL\n",
    "    )\n",
    "    \n",
    "    embeddings = response.model_dump()\n",
    "    return embeddings['data'][0]['embedding']\n",
    "\n",
    "# Test Fabric's OpenAI model\n",
    "#search_text = \"Hello from Fabric Notebooks\"\n",
    "#embeddings = generate_embeddings(search_text.strip())\n",
    "#print(embeddings)"
   ]
  },
  {
   "cell_type": "code",
   "execution_count": null,
   "id": "2416c25e-1a47-42d7-9ac5-6c4c91077c88",
   "metadata": {
    "microsoft": {
     "language": "python",
     "language_group": "jupyter_python"
    }
   },
   "outputs": [],
   "source": [
    "#Define function to perform vector search\n",
    "async def search_products(search_text: str, similarity: float = 0.8, limit: int = 5) -> List[Dict[str, Any]]:\n",
    "\n",
    "    try:\n",
    "        # Generate embeddings for the search text\n",
    "        embeddings = generate_embeddings(search_text.strip())\n",
    "\n",
    "        # Cosmos query with VectorDistance to perform similarity search\n",
    "        query = \"\"\"\n",
    "            SELECT TOP @limit \n",
    "                VectorDistance(c.vectors, @embeddings) AS SimilarityScore,\n",
    "                c.name, \n",
    "                c.description,\n",
    "                c.categoryName,\n",
    "                c.currentPrice,\n",
    "                c.inventory,\n",
    "                c.priceHistory\n",
    "            FROM c \n",
    "            WHERE \n",
    "                c.docType = @docType AND\n",
    "                VectorDistance(c.vectors, @embeddings) >= @similarity\n",
    "            ORDER BY \n",
    "                VectorDistance(c.vectors, @embeddings)\n",
    "        \"\"\"\n",
    "\n",
    "        parameters = [\n",
    "            {\"name\": \"@limit\", \"value\": limit},\n",
    "            {\"name\": \"@embeddings\", \"value\": embeddings},\n",
    "            {\"name\": \"@docType\", \"value\": \"product\"},\n",
    "            {\"name\": \"@similarity\", \"value\": similarity}\n",
    "        ]\n",
    "\n",
    "        # Async query: gather results into a list\n",
    "        products = [p async for p in CONTAINER.query_items(\n",
    "            query=query,\n",
    "            parameters=parameters\n",
    "        )]\n",
    "\n",
    "        # Always remove any properties with vectors in them, they are unnecessary and extremely large\n",
    "        for p in products:\n",
    "            p.pop('vectors', None)\n",
    "\n",
    "        return products\n",
    "        \n",
    "    except CosmosHttpResponseError as e:\n",
    "        logging.error(f\"Cosmos DB query failed: {e}\")\n",
    "        raise\n",
    "    except Exception as e:\n",
    "        logging.error(f\"Unexpected error in search_products: {e}\")\n",
    "        raise"
   ]
  },
  {
   "cell_type": "code",
   "execution_count": null,
   "id": "cd7a6f92-a017-4ba8-91d8-d7478b1ddd35",
   "metadata": {
    "collapsed": false,
    "microsoft": {
     "language": "python",
     "language_group": "jupyter_python"
    }
   },
   "outputs": [],
   "source": [
    "# Vector Search for products\n",
    "# The value for similarity score returns 6 products, the limit will restrict the results to 5\n",
    "# Feel free to adjust these to see how the results change. \n",
    "# You can also modify the search text for different results\n",
    "products = await search_products(search_text=\"gaming pc\", similarity=0.80, limit=5)\n",
    "\n",
    "#print the number of products found\n",
    "print(f\"Found {len(products)} products matching the search criteria.\")\n",
    "\n",
    "display(products) # for tabular output\n",
    "pprint(products) #Json friendly output"
   ]
  }
 ],
 "metadata": {
  "a365ComputeOptions": null,
  "dependencies": {
   "environment": {},
   "lakehouse": null
  },
  "kernel_info": {
   "jupyter_kernel_name": "python3.11",
   "name": "jupyter"
  },
  "kernelspec": {
   "display_name": "Jupyter",
   "language": null,
   "name": "jupyter"
  },
  "language_info": {
   "name": "python"
  },
  "microsoft": {
   "language": "python",
   "language_group": "jupyter_python",
   "ms_spell_check": {
    "ms_spell_check_language": "en"
   }
  },
  "nteract": {
   "version": "nteract-front-end@1.0.0"
  },
  "sessionKeepAliveTimeout": 0,
  "spark_compute": {
   "compute_id": "/trident/default",
   "session_options": {
    "conf": {
     "spark.synapse.nbs.session.timeout": "43200000"
    }
   }
  },
  "synapse_widget": {
   "state": {},
   "version": "0.1"
  }
 },
 "nbformat": 4,
 "nbformat_minor": 5
}
